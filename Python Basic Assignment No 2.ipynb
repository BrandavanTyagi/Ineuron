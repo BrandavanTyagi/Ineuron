{
 "cells": [
  {
   "cell_type": "markdown",
   "metadata": {},
   "source": [
    "# Python Basic Assignment No-2"
   ]
  },
  {
   "cell_type": "markdown",
   "metadata": {},
   "source": [
    "Q1:-1.\tWhat are the Boolean data type's two values? How do you go about writing them?\n",
    "\n",
    "Ans:-There are two Boolean data type’s value in python i.e.  :-\n",
    "           “True” and “False”   \n",
    "          In some place we have 1 for True and 0 for False \n"
   ]
  },
  {
   "cell_type": "markdown",
   "metadata": {},
   "source": [
    "Q2:-What are the three different types of Boolean operators?\n",
    "Ans:-There are three Logical operator :\n",
    "        And\n",
    "        OR\n",
    "       Not\n",
    "     The output of  these operation is Boolean i.e True and False\n"
   ]
  },
  {
   "cell_type": "markdown",
   "metadata": {},
   "source": [
    "Q3:-Make a list of each Boolean operator's truth tables (i.e. every possible combination of Boolean values for the operator and what it evaluate )\n",
    "Ans:-Truth table of  Each Boolean operator is :\n",
    "            And Operator:\t\t\t                                     OR Operator\t\n",
    "\n",
    "A\tB\tA And B                                                         A\tB\tA OR B\n",
    "0\t0\t0                                                               0\t0\t0\n",
    "0\t1\t1                                                               0\t1\t0\n",
    "1\t0\t1                                                               1\t0\t0\n",
    "1\t1\t1                                                               1\t1\t1\n",
    "   "
   ]
  },
  {
   "cell_type": "markdown",
   "metadata": {},
   "source": [
    "Q4:-What are the values of the following expressions?\n",
    "(5 > 4) and (3 == 5)\n",
    "not (5 > 4)\n",
    "(5 > 4) or (3 == 5)\n",
    "not ((5 > 4) or (3 == 5))\n",
    "(True and True) and (True == False)\n",
    "(not False) or (not True)\n",
    "Ans:--\n"
   ]
  },
  {
   "cell_type": "code",
   "execution_count": null,
   "metadata": {},
   "outputs": [],
   "source": [
    "(5 > 4) and (3 == 5)"
   ]
  },
  {
   "cell_type": "code",
   "execution_count": null,
   "metadata": {},
   "outputs": [],
   "source": [
    "not (5 > 4)"
   ]
  },
  {
   "cell_type": "code",
   "execution_count": null,
   "metadata": {},
   "outputs": [],
   "source": [
    "(5 > 4) or (3 == 5)"
   ]
  },
  {
   "cell_type": "code",
   "execution_count": null,
   "metadata": {},
   "outputs": [],
   "source": [
    "not ((5 > 4) or (3 == 5))"
   ]
  },
  {
   "cell_type": "code",
   "execution_count": null,
   "metadata": {},
   "outputs": [],
   "source": [
    "(True and True) and (True == False)"
   ]
  },
  {
   "cell_type": "code",
   "execution_count": null,
   "metadata": {},
   "outputs": [],
   "source": [
    "(not False) or (not True)"
   ]
  },
  {
   "cell_type": "markdown",
   "metadata": {},
   "source": [
    "Q5:-What are the six different types of reference operators?\n",
    "Ans:A Python program accesses data values through references. A reference is a name that refers to the specific location in memory of a value (object). ... In Python, a variable or other reference has no intrinsic type.\n",
    "Callables Operators(Reference Operator)\n",
    "1.\t* (Tuple Packing):-\n",
    "      Packs the consecutive function positional arguments into a tuple.\n",
    "2.\t** (Dictionary Packing):-\n",
    "      Packs the consecutive function keyword arguments into a dictionary.\n",
    "3.\t* (Tuple Unpacking):-\n",
    "      Unpacks the contents of a tuple into the function call.\n",
    "4.\t**(Dictionary Unpacking):-\n",
    "      Unpacks the contents of a dictionary into the function call.\n",
    "5.\t@(Decorator)\n",
    "      Returns a callable wrapped by another callable.\n",
    "6.\t() (Call Operator)\n",
    "     Calls a callable object with specified arguments.\n",
    "7.\tLambda:-\n",
    "      Returns an anonymous function.\n"
   ]
  },
  {
   "cell_type": "markdown",
   "metadata": {},
   "source": [
    "Q6:-How do you tell the difference between the equal to and assignment operators?\n",
    "Ans:-Equal to Operator(==):- \n",
    "It is used to compare two values(expression)  . It gives True if both value(expression)  is equal.\n",
    "              Example:-a=10\n",
    "                                b=10\n",
    "                               a==b\n",
    "                             True\n",
    "\n",
    "             Assignment Operator(=):-\n",
    "\t\t\t\tIt is for assignment purpose only  .\n",
    "             Example:-\n",
    "                                      A=10\n",
    "                                     B+=5\n",
    "                    "
   ]
  },
  {
   "cell_type": "markdown",
   "metadata": {},
   "source": [
    "Q7:-Describe a condition and when you would use one\n",
    "Ans:-Condition is nothing it is the only the python expression in which we use conditional      operator. \n",
    "Example:-\n",
    "      A=10\n",
    "     B=20\n",
    "    C=30\n",
    "   D=40\n",
    "   (A+B) >(C+D)\n",
    "  Output:-\n",
    "         False \n"
   ]
  },
  {
   "cell_type": "markdown",
   "metadata": {},
   "source": [
    "Q8:-Recognize the following three blocks in this code:\n",
    "spam = 0\n",
    "if spam == 10:\t       First Block\n",
    "    print('eggs')\n",
    "    if spam > 5:\tSecond Block\n",
    "        print('bacon')\n",
    "    else:\n",
    "        print('ham')\tThird Bock\n",
    "    print('spam')\n",
    "print('spam')\n"
   ]
  },
  {
   "cell_type": "markdown",
   "metadata": {},
   "source": [
    "Q9:-. Create a programme that prints. If 1 is stored in spam, prints Hello; if 2 is stored in spam, prints Howdy; and if 3 is stored in spam, prints Salutations! if there's something else in spam."
   ]
  },
  {
   "cell_type": "code",
   "execution_count": null,
   "metadata": {},
   "outputs": [],
   "source": [
    "spam=int(input(\"Enter the value of spam from 1 to 3:\"))\n",
    "if spam==1:\n",
    "    print(\"Hello\")\n",
    "elif spam==2:\n",
    "    print(\"Howdy\")\n",
    "elif spam==3:\n",
    "    print(\"Salutations\")\n",
    "else:\n",
    "    print(\"Please read instruction carefully and give correct input\")\n"
   ]
  },
  {
   "cell_type": "markdown",
   "metadata": {},
   "source": [
    "Q:10 If your programme is stuck in an endless loop, what keys can you press?\n",
    "\n",
    "Ans:-ctrl+c"
   ]
  },
  {
   "cell_type": "code",
   "execution_count": null,
   "metadata": {},
   "outputs": [],
   "source": [
    "while True:\n",
    "    print(\"Jaipur\")\n",
    "        "
   ]
  },
  {
   "cell_type": "markdown",
   "metadata": {},
   "source": [
    "Q11:-How can you tell the difference between break and continue?\n",
    "    \n",
    "Ans:-A break statement, when used inside the loop, will terminate the loop and exit. If used inside nested loops, it will break out from the current loop. A continue statement will stop the current execution when used inside a loop, and the control will go back to the start of the loop"
   ]
  },
  {
   "cell_type": "code",
   "execution_count": null,
   "metadata": {},
   "outputs": [],
   "source": [
    "numbers = [1, 2, 3]\n",
    "num_sum = 0\n",
    "count = 0\n",
    "for x in numbers:\n",
    "        num_sum = num_sum + x\n",
    "        count = count + 1\n",
    "        print(count)\n",
    "        if count == 2:\n",
    "                break"
   ]
  },
  {
   "cell_type": "code",
   "execution_count": null,
   "metadata": {},
   "outputs": [],
   "source": [
    "\n",
    "for x in range(4):\n",
    "   if (x==2):\n",
    "      continue\n",
    "   print(x)\n"
   ]
  },
  {
   "cell_type": "code",
   "execution_count": null,
   "metadata": {},
   "outputs": [],
   "source": [
    "Q12:-In a for loop, what is the difference between range(10), range(0, 10), and range(0, 10, 1)?"
   ]
  },
  {
   "cell_type": "code",
   "execution_count": null,
   "metadata": {},
   "outputs": [],
   "source": [
    "list(range(10))"
   ]
  },
  {
   "cell_type": "code",
   "execution_count": null,
   "metadata": {},
   "outputs": [],
   "source": [
    "list(range(0,10))"
   ]
  },
  {
   "cell_type": "code",
   "execution_count": null,
   "metadata": {},
   "outputs": [],
   "source": [
    "list(range(0,10,1))"
   ]
  },
  {
   "cell_type": "markdown",
   "metadata": {},
   "source": [
    "There is no difference in above code. because range(start,stop,step) if no start then from first one."
   ]
  },
  {
   "cell_type": "markdown",
   "metadata": {},
   "source": [
    "Q13. Using a for loop, write a short programme that prints the numbers 1 to 10 Then, using a while loop, create an identical programme that prints the numbers 1 to 10."
   ]
  },
  {
   "cell_type": "code",
   "execution_count": 2,
   "metadata": {},
   "outputs": [
    {
     "name": "stdout",
     "output_type": "stream",
     "text": [
      "1\n",
      "2\n",
      "3\n",
      "4\n",
      "5\n",
      "6\n",
      "7\n",
      "8\n",
      "9\n",
      "10\n"
     ]
    }
   ],
   "source": [
    "for i in range(1,11):\n",
    "    print(i)"
   ]
  },
  {
   "cell_type": "code",
   "execution_count": 1,
   "metadata": {},
   "outputs": [
    {
     "name": "stdout",
     "output_type": "stream",
     "text": [
      "1\n",
      "2\n",
      "3\n",
      "4\n",
      "5\n",
      "6\n",
      "7\n",
      "8\n",
      "9\n",
      "10\n"
     ]
    }
   ],
   "source": [
    "i=1\n",
    "while i <11:\n",
    "    print(i)\n",
    "    i=i+1"
   ]
  },
  {
   "cell_type": "markdown",
   "metadata": {},
   "source": [
    "Q14. If you had a bacon() function within a spam module, what would you call it after importing spam?"
   ]
  },
  {
   "cell_type": "markdown",
   "metadata": {},
   "source": [
    "Ans:- Bacon() function/module  is used to create 2D games that run on window opertaing system."
   ]
  }
 ],
 "metadata": {
  "kernelspec": {
   "display_name": "Python 3",
   "language": "python",
   "name": "python3"
  },
  "language_info": {
   "codemirror_mode": {
    "name": "ipython",
    "version": 3
   },
   "file_extension": ".py",
   "mimetype": "text/x-python",
   "name": "python",
   "nbconvert_exporter": "python",
   "pygments_lexer": "ipython3",
   "version": "3.8.5"
  }
 },
 "nbformat": 4,
 "nbformat_minor": 4
}
